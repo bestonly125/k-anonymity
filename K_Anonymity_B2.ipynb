{
 "cells": [
  {
   "cell_type": "markdown",
   "metadata": {
    "id": "ZhhexJtrtVBD"
   },
   "source": [
    "# K-Anonymity \n",
    "<p align=\"justify\">$\\qquad$ <b>k-anonymity</b> -модель, которая позволяет снижать риски повторной идентификации путем объединения атрибутов в группы, описывающие не менее $k$ людей. Предположим, что имеется набор из  $N$ строк/записей. Каждая запись состоит из  $D$ полей/атрибутов, из которых $X_i$ ($i \\in [0,D]$) не содержат конфиденциальной информации (non-sensitive) о физическом лице, примером таких атрибутов является возраст, пол, почтовый код и т.п. Однако,  это подмножество атрибутов может в совокупности указывать на конкретное лицо в данной группе.Такие атрибуты, в совокупности указывающие на конкретную персону называются <b>квази-идентификаторами</b> (\"quasi-identifiers\"), а их комбинация - <b>супер-идентификатор</b> (\"super-identifier\"), который может указывать на уникальную персону в достаточно большом наборе данных (т.е. комбинация пола, возраста и почтового кода ведет к выделению отдельной личности). </p>\n"
   ]
  },
  {
   "cell_type": "code",
   "execution_count": 1,
   "metadata": {
    "colab": {
     "base_uri": "https://localhost:8080/",
     "height": 665
    },
    "id": "H9TFyV-_lYt1",
    "outputId": "45940549-3399-4bef-8054-4e4582b5e232"
   },
   "outputs": [
    {
     "data": {
      "text/html": [
       "<div>\n",
       "<style scoped>\n",
       "    .dataframe tbody tr th:only-of-type {\n",
       "        vertical-align: middle;\n",
       "    }\n",
       "\n",
       "    .dataframe tbody tr th {\n",
       "        vertical-align: top;\n",
       "    }\n",
       "\n",
       "    .dataframe thead th {\n",
       "        text-align: right;\n",
       "    }\n",
       "</style>\n",
       "<table border=\"1\" class=\"dataframe\">\n",
       "  <thead>\n",
       "    <tr style=\"text-align: right;\">\n",
       "      <th></th>\n",
       "      <th>ID Микросегмент</th>\n",
       "      <th>Дата просмотра рекламы</th>\n",
       "      <th>Кол-во пользователей, просмотревших рекламу</th>\n",
       "      <th>Кол-во просмотров рекламы</th>\n",
       "    </tr>\n",
       "  </thead>\n",
       "  <tbody>\n",
       "    <tr>\n",
       "      <th>499990</th>\n",
       "      <td>499991</td>\n",
       "      <td>2020-02-24</td>\n",
       "      <td>20</td>\n",
       "      <td>21</td>\n",
       "    </tr>\n",
       "    <tr>\n",
       "      <th>499991</th>\n",
       "      <td>499992</td>\n",
       "      <td>2020-08-05</td>\n",
       "      <td>5</td>\n",
       "      <td>29</td>\n",
       "    </tr>\n",
       "    <tr>\n",
       "      <th>499992</th>\n",
       "      <td>499993</td>\n",
       "      <td>2020-08-31</td>\n",
       "      <td>24</td>\n",
       "      <td>5</td>\n",
       "    </tr>\n",
       "    <tr>\n",
       "      <th>499993</th>\n",
       "      <td>499994</td>\n",
       "      <td>2020-08-05</td>\n",
       "      <td>4</td>\n",
       "      <td>9</td>\n",
       "    </tr>\n",
       "    <tr>\n",
       "      <th>499994</th>\n",
       "      <td>499995</td>\n",
       "      <td>2020-08-03</td>\n",
       "      <td>11</td>\n",
       "      <td>29</td>\n",
       "    </tr>\n",
       "    <tr>\n",
       "      <th>499995</th>\n",
       "      <td>499996</td>\n",
       "      <td>2020-12-04</td>\n",
       "      <td>27</td>\n",
       "      <td>1</td>\n",
       "    </tr>\n",
       "    <tr>\n",
       "      <th>499996</th>\n",
       "      <td>499997</td>\n",
       "      <td>2020-03-23</td>\n",
       "      <td>26</td>\n",
       "      <td>3</td>\n",
       "    </tr>\n",
       "    <tr>\n",
       "      <th>499997</th>\n",
       "      <td>499998</td>\n",
       "      <td>2020-10-22</td>\n",
       "      <td>5</td>\n",
       "      <td>12</td>\n",
       "    </tr>\n",
       "    <tr>\n",
       "      <th>499998</th>\n",
       "      <td>499999</td>\n",
       "      <td>2020-04-20</td>\n",
       "      <td>25</td>\n",
       "      <td>19</td>\n",
       "    </tr>\n",
       "    <tr>\n",
       "      <th>499999</th>\n",
       "      <td>500000</td>\n",
       "      <td>2020-12-06</td>\n",
       "      <td>26</td>\n",
       "      <td>10</td>\n",
       "    </tr>\n",
       "  </tbody>\n",
       "</table>\n",
       "</div>"
      ],
      "text/plain": [
       "        ID Микросегмент Дата просмотра рекламы  \\\n",
       "499990           499991             2020-02-24   \n",
       "499991           499992             2020-08-05   \n",
       "499992           499993             2020-08-31   \n",
       "499993           499994             2020-08-05   \n",
       "499994           499995             2020-08-03   \n",
       "499995           499996             2020-12-04   \n",
       "499996           499997             2020-03-23   \n",
       "499997           499998             2020-10-22   \n",
       "499998           499999             2020-04-20   \n",
       "499999           500000             2020-12-06   \n",
       "\n",
       "        Кол-во пользователей, просмотревших рекламу  Кол-во просмотров рекламы  \n",
       "499990                                           20                         21  \n",
       "499991                                            5                         29  \n",
       "499992                                           24                          5  \n",
       "499993                                            4                          9  \n",
       "499994                                           11                         29  \n",
       "499995                                           27                          1  \n",
       "499996                                           26                          3  \n",
       "499997                                            5                         12  \n",
       "499998                                           25                         19  \n",
       "499999                                           26                         10  "
      ]
     },
     "execution_count": 1,
     "metadata": {},
     "output_type": "execute_result"
    }
   ],
   "source": [
    "import pandas as pd\n",
    "from collections import Counter\n",
    "from openpyxl import Workbook\n",
    "df = pd.read_excel(\"marketing_case_v.0.7.xlsx\", sheet_name=\"B2\", engine = 'openpyxl')\n",
    "df.tail(10)\n"
   ]
  },
  {
   "cell_type": "code",
   "execution_count": 2,
   "metadata": {
    "colab": {
     "base_uri": "https://localhost:8080/"
    },
    "id": "5JeErr4rtUBe",
    "outputId": "348eba04-04e5-4a05-d5e3-ad6c10408172"
   },
   "outputs": [
    {
     "name": "stdout",
     "output_type": "stream",
     "text": [
      "<class 'pandas.core.frame.DataFrame'>\n",
      "RangeIndex: 500000 entries, 0 to 499999\n",
      "Data columns (total 4 columns):\n",
      " #   Column                                       Non-Null Count   Dtype \n",
      "---  ------                                       --------------   ----- \n",
      " 0   ID Микросегмент                              500000 non-null  int64 \n",
      " 1   Дата просмотра рекламы                       500000 non-null  object\n",
      " 2   Кол-во пользователей, просмотревших рекламу  500000 non-null  int64 \n",
      " 3   Кол-во просмотров рекламы                    500000 non-null  int64 \n",
      "dtypes: int64(3), object(1)\n",
      "memory usage: 15.3+ MB\n"
     ]
    }
   ],
   "source": [
    "df.info()"
   ]
  },
  {
   "cell_type": "markdown",
   "metadata": {
    "id": "xS3waMcdux44"
   },
   "source": [
    "Currently each row is unique"
   ]
  },
  {
   "cell_type": "code",
   "execution_count": 3,
   "metadata": {
    "colab": {
     "base_uri": "https://localhost:8080/",
     "height": 35
    },
    "id": "SXNFID09vbBj",
    "outputId": "dfc962af-b3ad-411e-b0df-ddf13f2dbd77"
   },
   "outputs": [
    {
     "data": {
      "text/plain": [
       "'Duplicates == 0'"
      ]
     },
     "execution_count": 3,
     "metadata": {},
     "output_type": "execute_result"
    }
   ],
   "source": [
    "'Duplicates == ' + str(df.shape[0] - df.drop_duplicates().shape[0])"
   ]
  },
  {
   "cell_type": "markdown",
   "metadata": {
    "id": "Pcl8BQRUvlbG"
   },
   "source": [
    "#### Модель $k$-anonimity и риски повторной идентификации\n",
    "\n",
    "<p align=\"justify\">$\\qquad$ В дополнение подразумевается, что кроме квази-идентификаторов набор данных может содержать некоторые данные напрямую указывающие на личность (например, ИНН) - <b>прямые идентификаторы</b> (\"direct-identificatotrs\"), а также по крайней мере один атрибут представляющий чувствительную информацию - например, уровень дохода (\"income\") или сведения о болезни. Модель нацелена на защиту этой чувствительной информации. В рамках такой защиты записи подвергаются методам обезличивания - <b>обобщению</b> (\"generalization\") или подавлению (\"suppression\"), цель этих методов разрушить информацию таким образом, чтобы снизить количество строк с одинаковыми квази-атрибутами (так называемые классы эквивалентности). Объем минимального класса эквивалентности (количество записей с одинаковыми занчениями квази-идентификаторов) обратно пропорционален вероятности риска повторной идентификации и может служить числовой характеристикой метода.</p>\n",
    "\n",
    "\n",
    "<p align=\"justify\">$\\qquad$ Применение методов обезличивания ведет к тому, что полезная информация в обезличенных наборах данных становится менеее качественной - для измерения уровня этого качества используются специальные метрики <b>расчета полезности</b> (\"utility\"). Суть модели - нахождение баланса между риском повторной идентификации с одной стороны и полезностью набора  данных - с другой.</p>\n",
    "\n",
    "<p align=\"justify\">$\\qquad$ В первом приближении модель k-anonymity  требует выделения квази-идентификаторов (\"QID\") и вычисления для них <b>размеров классов-эквивалентности</b>  $k$ строк/физических лиц, затем итерационное применение методов обезличивания (включающих подавление строк или ячеек, обобщение значений), между которыми следует анализ получившегося набора и уточнение параметров методов обезличивания. В результате это защищает отдельных людей, сводя к минимому информацию об отдельном человеке, оставляя злоумышленнику (\"adversary\") только информацию о принадлежности данного человека к определенной группе.  Хотя получающийся набор не является точным, он все еще годится для целей анализа и построения моделей машинного обучения. В ряде случаев надо решать не только проблему обезличивания, но и иного подхода к идентификации, например, для решения задач, в которых обобщенные данные не могут использоваться напрямую.</p>\n"
   ]
  },
  {
   "cell_type": "code",
   "execution_count": 4,
   "metadata": {
    "collapsed": false,
    "jupyter": {
     "outputs_hidden": false
    }
   },
   "outputs": [],
   "source": [
    "QI = ['ID Микросегмент',\n",
    "    'Дата просмотра рекламы'   \n",
    "    ]\n"
   ]
  },
  {
   "cell_type": "code",
   "execution_count": 5,
   "metadata": {
    "colab": {
     "base_uri": "https://localhost:8080/"
    },
    "id": "CnBtwT72wqQ8",
    "outputId": "61175ab4-e4c4-4a05-923e-6c1bd4c6e39a"
   },
   "outputs": [
    {
     "name": "stdout",
     "output_type": "stream",
     "text": [
      " k-anonymity = 1\n"
     ]
    }
   ],
   "source": [
    "def k_anonymous(data, columns):\n",
    "  ## Возьмите фрейм данных, верните значение k-anonymity\n",
    "  ## Агрегируйте по именам столбцов и возьмите ненулевой минимум каждой строки\n",
    "  aggregrate = data.groupby(columns).count().apply(lambda x : set(x) - set({0}),axis = 1)\n",
    "  aggregrate = aggregrate.apply(lambda x : 0 if x == set() else min(x))\n",
    "  return min(aggregrate)\n",
    "print(' k-anonymity = ' + str(k_anonymous(df, QI )))"
   ]
  },
  {
   "cell_type": "markdown",
   "metadata": {},
   "source": [
    "#### Количество уникальных строк"
   ]
  },
  {
   "cell_type": "code",
   "execution_count": null,
   "metadata": {
    "collapsed": false,
    "jupyter": {
     "outputs_hidden": false
    }
   },
   "outputs": [],
   "source": [
    "unique_rows = df[QI].drop_duplicates()\n",
    "unique_rows.to_excel(\"uniques_row.xlsx\")\n",
    "print(f\"Количество уникальных строк = {len(unique_rows)}\")"
   ]
  },
  {
   "cell_type": "code",
   "execution_count": null,
   "metadata": {
    "collapsed": false,
    "jupyter": {
     "outputs_hidden": false
    }
   },
   "outputs": [],
   "source": [
    "print(unique_rows)"
   ]
  },
  {
   "cell_type": "markdown",
   "metadata": {
    "id": "2iwWHbihH6FS"
   },
   "source": [
    "#### Графики подсчета этих типов данных показаны ниже."
   ]
  },
  {
   "cell_type": "code",
   "execution_count": null,
   "metadata": {
    "collapsed": false,
    "jupyter": {
     "outputs_hidden": false
    }
   },
   "outputs": [
    {
     "name": "stderr",
     "output_type": "stream",
     "text": [
      "IOStream.flush timed out\n",
      "IOStream.flush timed out\n"
     ]
    }
   ],
   "source": [
    "import seaborn as sns\n",
    "import matplotlib.pyplot as plt\n",
    "\n",
    "columns = QI\n",
    "\n",
    "fig, ax = plt.subplots(len(columns), figsize = (20,80))\n",
    "for i in range(len(columns)):\n",
    "  ax[i].set_title('Column : ' + str(columns[i]))\n",
    "  sns.countplot(y = columns[i], data = df, ax = ax[i])"
   ]
  },
  {
   "cell_type": "markdown",
   "metadata": {},
   "source": [
    "#### Количество повторных значений"
   ]
  },
  {
   "cell_type": "code",
   "execution_count": null,
   "metadata": {
    "collapsed": false,
    "jupyter": {
     "outputs_hidden": false
    }
   },
   "outputs": [],
   "source": [
    "def quantity_qi(arg):\n",
    "    quantity = Counter(df[arg])\n",
    "    dic_quan = dict(quantity)\n",
    "    \n",
    "    for idx, item in enumerate(dic_quan.items(),1):\n",
    "        if(arg == 'ID Микросегмент'):\n",
    "            ws['A' + str(idx + 1)] = f\"{item[0]}=>{item[1]}\"\n",
    "            ws['A1'] = f\"{arg}\"\n",
    "        elif(arg == 'Дата просмотра рекламы'):\n",
    "            ws['B' + str(idx + 1)] = f\"{item[0]}=>{item[1]}\"\n",
    "            ws['B1'] = f\"{arg}\""
   ]
  },
  {
   "cell_type": "markdown",
   "metadata": {},
   "source": [
    " #### Создается Excel файл, где в каждой ячейке после стрелочки выводиться количество повторов “имени” ячейки в исходном датасете."
   ]
  },
  {
   "cell_type": "code",
   "execution_count": null,
   "metadata": {},
   "outputs": [],
   "source": [
    "wb = Workbook()\n",
    "ws = wb.create_sheet(\"B2\")\n",
    "for arg in QI:\n",
    "    quantity_qi(arg)\n",
    "wb.save('quantity.xlsx')\n",
    "df2 = pd.read_excel('quantity.xlsx', sheet_name=\"B2\", engine = 'openpyxl')\n",
    "df2.head(10)"
   ]
  }
 ],
 "metadata": {
  "colab": {
   "authorship_tag": "ABX9TyM0gUeRhrHztDmd1gtEUV5x",
   "include_colab_link": true,
   "name": "K-Anonymity",
   "provenance": []
  },
  "kernelspec": {
   "display_name": "Python 3 (ipykernel)",
   "language": "python",
   "name": "python3"
  },
  "language_info": {
   "codemirror_mode": {
    "name": "ipython",
    "version": 3
   },
   "file_extension": ".py",
   "mimetype": "text/x-python",
   "name": "python",
   "nbconvert_exporter": "python",
   "pygments_lexer": "ipython3",
   "version": "3.8.10"
  }
 },
 "nbformat": 4,
 "nbformat_minor": 4
}
