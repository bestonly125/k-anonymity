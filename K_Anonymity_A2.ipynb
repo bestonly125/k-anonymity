{
 "cells": [
  {
   "cell_type": "markdown",
   "metadata": {
    "id": "ZhhexJtrtVBD"
   },
   "source": [
    "# K-Anonymity \n",
    "<p align=\"justify\">$\\qquad$ <b>k-anonymity</b> -модель, которая позволяет снижать риски повторной идентификации путем объединения атрибутов в группы, описывающие не менее $k$ людей. Предположим, что имеется набор из  $N$ строк/записей. Каждая запись состоит из  $D$ полей/атрибутов, из которых $X_i$ ($i \\in [0,D]$) не содержат конфиденциальной информации (non-sensitive) о физическом лице, примером таких атрибутов является возраст, пол, почтовый код и т.п. Однако,  это подмножество атрибутов может в совокупности указывать на конкретное лицо в данной группе.Такие атрибуты, в совокупности указывающие на конкретную персону называются <b>квази-идентификаторами</b> (\"quasi-identifiers\"), а их комбинация - <b>супер-идентификатор</b> (\"super-identifier\"), который может указывать на уникальную персону в достаточно большом наборе данных (т.е. комбинация пола, возраста и почтового кода ведет к выделению отдельной личности). </p>\n"
   ]
  },
  {
   "cell_type": "code",
   "execution_count": 1,
   "metadata": {
    "colab": {
     "base_uri": "https://localhost:8080/",
     "height": 665
    },
    "id": "H9TFyV-_lYt1",
    "outputId": "45940549-3399-4bef-8054-4e4582b5e232"
   },
   "outputs": [
    {
     "data": {
      "text/html": [
       "<div>\n",
       "<style scoped>\n",
       "    .dataframe tbody tr th:only-of-type {\n",
       "        vertical-align: middle;\n",
       "    }\n",
       "\n",
       "    .dataframe tbody tr th {\n",
       "        vertical-align: top;\n",
       "    }\n",
       "\n",
       "    .dataframe thead th {\n",
       "        text-align: right;\n",
       "    }\n",
       "</style>\n",
       "<table border=\"1\" class=\"dataframe\">\n",
       "  <thead>\n",
       "    <tr style=\"text-align: right;\">\n",
       "      <th></th>\n",
       "      <th>Микросегмент</th>\n",
       "      <th>Локальное время покупок</th>\n",
       "      <th>Широта</th>\n",
       "      <th>Долгота</th>\n",
       "      <th>Общая сумма покупок</th>\n",
       "      <th>Код региона</th>\n",
       "      <th>Часовой пояс</th>\n",
       "      <th>Кол-во покупок</th>\n",
       "      <th>Кол-во  товаров в покупоке</th>\n",
       "      <th>Бренды</th>\n",
       "      <th>Категория</th>\n",
       "    </tr>\n",
       "  </thead>\n",
       "  <tbody>\n",
       "    <tr>\n",
       "      <th>499990</th>\n",
       "      <td>91611244xx</td>\n",
       "      <td>2020-02-15T23:46+00:03</td>\n",
       "      <td>44.426539</td>\n",
       "      <td>55.631427</td>\n",
       "      <td>4389</td>\n",
       "      <td>38</td>\n",
       "      <td>UTC+5</td>\n",
       "      <td>1</td>\n",
       "      <td>1</td>\n",
       "      <td>NETGEAR</td>\n",
       "      <td>Антенны для Wi-Fi и 3G</td>\n",
       "    </tr>\n",
       "    <tr>\n",
       "      <th>499991</th>\n",
       "      <td>91611504xx</td>\n",
       "      <td>2020-02-19T09:27+00:03</td>\n",
       "      <td>44.428760</td>\n",
       "      <td>55.656080</td>\n",
       "      <td>5300</td>\n",
       "      <td>38</td>\n",
       "      <td>UTC+5</td>\n",
       "      <td>1</td>\n",
       "      <td>1</td>\n",
       "      <td>Kingston</td>\n",
       "      <td>Оперативная память</td>\n",
       "    </tr>\n",
       "    <tr>\n",
       "      <th>499992</th>\n",
       "      <td>91611336xx</td>\n",
       "      <td>2020-02-06T20:03+00:03</td>\n",
       "      <td>44.427669</td>\n",
       "      <td>55.636085</td>\n",
       "      <td>28854</td>\n",
       "      <td>38</td>\n",
       "      <td>UTC+5</td>\n",
       "      <td>1</td>\n",
       "      <td>1</td>\n",
       "      <td>HP</td>\n",
       "      <td>Ноутбуки</td>\n",
       "    </tr>\n",
       "    <tr>\n",
       "      <th>499993</th>\n",
       "      <td>91611919xx</td>\n",
       "      <td>2020-02-13T20:54+00:03</td>\n",
       "      <td>44.412713</td>\n",
       "      <td>55.647121</td>\n",
       "      <td>27390</td>\n",
       "      <td>38</td>\n",
       "      <td>UTC+5</td>\n",
       "      <td>3</td>\n",
       "      <td>3</td>\n",
       "      <td>LG</td>\n",
       "      <td>Монитор</td>\n",
       "    </tr>\n",
       "    <tr>\n",
       "      <th>499994</th>\n",
       "      <td>91611566xx</td>\n",
       "      <td>2020-03-04T22:14+00:03</td>\n",
       "      <td>44.431904</td>\n",
       "      <td>55.630821</td>\n",
       "      <td>56067</td>\n",
       "      <td>38</td>\n",
       "      <td>UTC+5</td>\n",
       "      <td>3</td>\n",
       "      <td>3</td>\n",
       "      <td>Lenovo</td>\n",
       "      <td>Ноутбуки</td>\n",
       "    </tr>\n",
       "    <tr>\n",
       "      <th>499995</th>\n",
       "      <td>91611578xx</td>\n",
       "      <td>2020-02-01T01:50+00:03</td>\n",
       "      <td>44.413535</td>\n",
       "      <td>55.641065</td>\n",
       "      <td>38336</td>\n",
       "      <td>38</td>\n",
       "      <td>UTC+5</td>\n",
       "      <td>4</td>\n",
       "      <td>4</td>\n",
       "      <td>LG</td>\n",
       "      <td>Монитор</td>\n",
       "    </tr>\n",
       "    <tr>\n",
       "      <th>499996</th>\n",
       "      <td>91611363xx</td>\n",
       "      <td>2020-01-11T06:01+00:03</td>\n",
       "      <td>44.431067</td>\n",
       "      <td>55.621626</td>\n",
       "      <td>81886</td>\n",
       "      <td>38</td>\n",
       "      <td>UTC+5</td>\n",
       "      <td>2</td>\n",
       "      <td>2</td>\n",
       "      <td>Acer</td>\n",
       "      <td>Ноутбуки</td>\n",
       "    </tr>\n",
       "    <tr>\n",
       "      <th>499997</th>\n",
       "      <td>91611613xx</td>\n",
       "      <td>2020-01-16T04:13+00:03</td>\n",
       "      <td>44.418827</td>\n",
       "      <td>55.643441</td>\n",
       "      <td>330292</td>\n",
       "      <td>38</td>\n",
       "      <td>UTC+5</td>\n",
       "      <td>4</td>\n",
       "      <td>4</td>\n",
       "      <td>HP</td>\n",
       "      <td>Монитор</td>\n",
       "    </tr>\n",
       "    <tr>\n",
       "      <th>499998</th>\n",
       "      <td>91611223xx</td>\n",
       "      <td>2020-02-09T06:17+00:03</td>\n",
       "      <td>44.435559</td>\n",
       "      <td>55.657311</td>\n",
       "      <td>10310</td>\n",
       "      <td>38</td>\n",
       "      <td>UTC+5</td>\n",
       "      <td>5</td>\n",
       "      <td>5</td>\n",
       "      <td>Bradex</td>\n",
       "      <td>Подставки для ноутбуков</td>\n",
       "    </tr>\n",
       "    <tr>\n",
       "      <th>499999</th>\n",
       "      <td>91611505xx</td>\n",
       "      <td>2020-01-11T05:16+00:03</td>\n",
       "      <td>44.410798</td>\n",
       "      <td>55.602325</td>\n",
       "      <td>34780</td>\n",
       "      <td>38</td>\n",
       "      <td>UTC+5</td>\n",
       "      <td>4</td>\n",
       "      <td>4</td>\n",
       "      <td>BenQ</td>\n",
       "      <td>Монитор</td>\n",
       "    </tr>\n",
       "  </tbody>\n",
       "</table>\n",
       "</div>"
      ],
      "text/plain": [
       "       Микросегмент Локальное время покупок     Широта    Долгота  \\\n",
       "499990   91611244xx  2020-02-15T23:46+00:03  44.426539  55.631427   \n",
       "499991   91611504xx  2020-02-19T09:27+00:03  44.428760  55.656080   \n",
       "499992   91611336xx  2020-02-06T20:03+00:03  44.427669  55.636085   \n",
       "499993   91611919xx  2020-02-13T20:54+00:03  44.412713  55.647121   \n",
       "499994   91611566xx  2020-03-04T22:14+00:03  44.431904  55.630821   \n",
       "499995   91611578xx  2020-02-01T01:50+00:03  44.413535  55.641065   \n",
       "499996   91611363xx  2020-01-11T06:01+00:03  44.431067  55.621626   \n",
       "499997   91611613xx  2020-01-16T04:13+00:03  44.418827  55.643441   \n",
       "499998   91611223xx  2020-02-09T06:17+00:03  44.435559  55.657311   \n",
       "499999   91611505xx  2020-01-11T05:16+00:03  44.410798  55.602325   \n",
       "\n",
       "        Общая сумма покупок  Код региона Часовой пояс  Кол-во покупок  \\\n",
       "499990                 4389           38        UTC+5               1   \n",
       "499991                 5300           38        UTC+5               1   \n",
       "499992                28854           38        UTC+5               1   \n",
       "499993                27390           38        UTC+5               3   \n",
       "499994                56067           38        UTC+5               3   \n",
       "499995                38336           38        UTC+5               4   \n",
       "499996                81886           38        UTC+5               2   \n",
       "499997               330292           38        UTC+5               4   \n",
       "499998                10310           38        UTC+5               5   \n",
       "499999                34780           38        UTC+5               4   \n",
       "\n",
       "        Кол-во  товаров в покупоке    Бренды                Категория  \n",
       "499990                           1   NETGEAR   Антенны для Wi-Fi и 3G  \n",
       "499991                           1  Kingston       Оперативная память  \n",
       "499992                           1        HP                 Ноутбуки  \n",
       "499993                           3        LG                  Монитор  \n",
       "499994                           3    Lenovo                 Ноутбуки  \n",
       "499995                           4        LG                  Монитор  \n",
       "499996                           2      Acer                 Ноутбуки  \n",
       "499997                           4        HP                  Монитор  \n",
       "499998                           5    Bradex  Подставки для ноутбуков  \n",
       "499999                           4      BenQ                  Монитор  "
      ]
     },
     "execution_count": 1,
     "metadata": {},
     "output_type": "execute_result"
    }
   ],
   "source": [
    "import pandas as pd\n",
    "import numpy as np\n",
    "import matplotlib.pyplot as plt\n",
    "\n",
    "df = pd.read_excel(\"marketing_case_v.0.7.xlsx\", sheet_name=\"A2\", engine = 'openpyxl')\n",
    "df.tail(10)\n"
   ]
  },
  {
   "cell_type": "code",
   "execution_count": 2,
   "metadata": {
    "colab": {
     "base_uri": "https://localhost:8080/"
    },
    "id": "5JeErr4rtUBe",
    "outputId": "348eba04-04e5-4a05-d5e3-ad6c10408172"
   },
   "outputs": [
    {
     "name": "stdout",
     "output_type": "stream",
     "text": [
      "<class 'pandas.core.frame.DataFrame'>\n",
      "RangeIndex: 500000 entries, 0 to 499999\n",
      "Data columns (total 11 columns):\n",
      " #   Column                      Non-Null Count   Dtype  \n",
      "---  ------                      --------------   -----  \n",
      " 0   Микросегмент                500000 non-null  object \n",
      " 1   Локальное время покупок     500000 non-null  object \n",
      " 2   Широта                      500000 non-null  float64\n",
      " 3   Долгота                     500000 non-null  float64\n",
      " 4   Общая сумма покупок         500000 non-null  int64  \n",
      " 5   Код региона                 500000 non-null  int64  \n",
      " 6   Часовой пояс                500000 non-null  object \n",
      " 7   Кол-во покупок              500000 non-null  int64  \n",
      " 8   Кол-во  товаров в покупоке  500000 non-null  int64  \n",
      " 9   Бренды                      499751 non-null  object \n",
      " 10  Категория                   500000 non-null  object \n",
      "dtypes: float64(2), int64(4), object(5)\n",
      "memory usage: 42.0+ MB\n"
     ]
    }
   ],
   "source": [
    "df.info()"
   ]
  },
  {
   "cell_type": "markdown",
   "metadata": {
    "id": "xS3waMcdux44"
   },
   "source": [
    "Currently each row is unique"
   ]
  },
  {
   "cell_type": "code",
   "execution_count": 3,
   "metadata": {
    "colab": {
     "base_uri": "https://localhost:8080/",
     "height": 35
    },
    "id": "SXNFID09vbBj",
    "outputId": "dfc962af-b3ad-411e-b0df-ddf13f2dbd77"
   },
   "outputs": [
    {
     "data": {
      "text/plain": [
       "'Duplicates == 0'"
      ]
     },
     "execution_count": 3,
     "metadata": {},
     "output_type": "execute_result"
    }
   ],
   "source": [
    "'Duplicates == ' + str(df.shape[0] - df.drop_duplicates().shape[0])"
   ]
  },
  {
   "cell_type": "markdown",
   "metadata": {
    "id": "Pcl8BQRUvlbG"
   },
   "source": [
    "#### Модель $k$-anonimity и риски повторной идентификации\n",
    "\n",
    "<p align=\"justify\">$\\qquad$ В дополнение подразумевается, что кроме квази-идентификаторов набор данных может содержать некоторые данные напрямую указывающие на личность (например, ИНН) - <b>прямые идентификаторы</b> (\"direct-identificatotrs\"), а также по крайней мере один атрибут представляющий чувствительную информацию - например, уровень дохода (\"income\") или сведения о болезни. Модель нацелена на защиту этой чувствительной информации. В рамках такой защиты записи подвергаются методам обезличивания - <b>обобщению</b> (\"generalization\") или подавлению (\"suppression\"), цель этих методов разрушить информацию таким образом, чтобы снизить количество строк с одинаковыми квази-атрибутами (так называемые классы эквивалентности). Объем минимального класса эквивалентности (количество записей с одинаковыми занчениями квази-идентификаторов) обратно пропорционален вероятности риска повторной идентификации и может служить числовой характеристикой метода.</p>\n",
    "\n",
    "\n",
    "<p align=\"justify\">$\\qquad$ Применение методов обезличивания ведет к тому, что полезная информация в обезличенных наборах данных становится менеее качественной - для измерения уровня этого качества используются специальные метрики <b>расчета полезности</b> (\"utility\"). Суть модели - нахождение баланса между риском повторной идентификации с одной стороны и полезностью набора  данных - с другой.</p>\n",
    "\n",
    "<p align=\"justify\">$\\qquad$ В первом приближении модель k-anonymity  требует выделения квази-идентификаторов (\"QID\") и вычисления для них <b>размеров классов-эквивалентности</b>  $k$ строк/физических лиц, затем итерационное применение методов обезличивания (включающих подавление строк или ячеек, обобщение значений), между которыми следует анализ получившегося набора и уточнение параметров методов обезличивания. В результате это защищает отдельных людей, сводя к минимому информацию об отдельном человеке, оставляя злоумышленнику (\"adversary\") только информацию о принадлежности данного человека к определенной группе.  Хотя получающийся набор не является точным, он все еще годится для целей анализа и построения моделей машинного обучения. В ряде случаев надо решать не только проблему обезличивания, но и иного подхода к идентификации, например, для решения задач, в которых обобщенные данные не могут использоваться напрямую.</p>\n"
   ]
  },
  {
   "cell_type": "code",
   "execution_count": 4,
   "metadata": {
    "colab": {
     "base_uri": "https://localhost:8080/"
    },
    "id": "CnBtwT72wqQ8",
    "outputId": "61175ab4-e4c4-4a05-923e-6c1bd4c6e39a"
   },
   "outputs": [
    {
     "name": "stdout",
     "output_type": "stream",
     "text": [
      " k-anonymity = 1\n"
     ]
    }
   ],
   "source": [
    "def k_anonymous(data, columns):\n",
    "  ## Возьмите фрейм данных, верните значение k-anonymity\n",
    "  ## Агрегируйте по именам столбцов и возьмите ненулевой минимум каждой строки\n",
    "  aggregrate = data.groupby(columns).count().apply(lambda x : set(x) - set({0}),axis = 1)\n",
    "  aggregrate = aggregrate.apply(lambda x : 0 if x == set() else min(x))\n",
    "  return min(aggregrate)\n",
    "print(' k-anonymity = ' + str(k_anonymous(df, [\n",
    "    'Локальное время покупок',\n",
    "    'Широта',\n",
    "    'Долгота',\n",
    "    'Общая сумма покупок',\n",
    "    'Код региона',\n",
    "    'Часовой пояс',\n",
    "    'Кол-во покупок',\n",
    "    'Бренды',\n",
    "    'Категория'])))"
   ]
  },
  {
   "cell_type": "markdown",
   "metadata": {
    "id": "2iwWHbihH6FS"
   },
   "source": [
    "#### Графики подсчета этих типов данных показаны ниже."
   ]
  },
  {
   "cell_type": "code",
   "execution_count": null,
   "metadata": {
    "colab": {
     "base_uri": "https://localhost:8080/",
     "height": 1000
    },
    "id": "yKDPK5BRH542",
    "outputId": "4fd71850-1e07-4d03-805d-a5cf6837af03",
    "pycharm": {
     "is_executing": true
    }
   },
   "outputs": [],
   "source": [
    "import seaborn as sns\n",
    "import matplotlib.pyplot as plt\n",
    "\n",
    "columns = ['Локальное время покупок',\n",
    "            'Широта',\n",
    "            'Долгота',\n",
    "            'Общая сумма покупок',\n",
    "            'Код региона',\n",
    "            'Часовой пояс',\n",
    "            'Кол-во покупок',\n",
    "            'Бренды',\n",
    "            'Категория']\n",
    "\n",
    "fig, ax = plt.subplots(len(columns), figsize = (20,80))\n",
    "for i in range(len(columns)):\n",
    "  ax[i].set_title('Column : ' + str(columns[i]))\n",
    "  sns.countplot(y = columns[i], data = df, ax = ax[i])"
   ]
  }
 ],
 "metadata": {
  "colab": {
   "authorship_tag": "ABX9TyM0gUeRhrHztDmd1gtEUV5x",
   "include_colab_link": true,
   "name": "K-Anonymity",
   "provenance": []
  },
  "kernelspec": {
   "display_name": "Python 3 (ipykernel)",
   "language": "python",
   "name": "python3"
  },
  "language_info": {
   "codemirror_mode": {
    "name": "ipython",
    "version": 3
   },
   "file_extension": ".py",
   "mimetype": "text/x-python",
   "name": "python",
   "nbconvert_exporter": "python",
   "pygments_lexer": "ipython3",
   "version": "3.8.10"
  }
 },
 "nbformat": 4,
 "nbformat_minor": 4
}
