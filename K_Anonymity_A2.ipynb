{
 "cells": [
  {
   "cell_type": "markdown",
   "metadata": {
    "id": "ZhhexJtrtVBD"
   },
   "source": [
    "# K-Anonymity \n",
    "<p align=\"justify\">$\\qquad$ <b>k-anonymity</b> -модель, которая позволяет снижать риски повторной идентификации путем объединения атрибутов в группы, описывающие не менее $k$ людей. Предположим, что имеется набор из  $N$ строк/записей. Каждая запись состоит из  $D$ полей/атрибутов, из которых $X_i$ ($i \\in [0,D]$) не содержат конфиденциальной информации (non-sensitive) о физическом лице, примером таких атрибутов является возраст, пол, почтовый код и т.п. Однако,  это подмножество атрибутов может в совокупности указывать на конкретное лицо в данной группе.Такие атрибуты, в совокупности указывающие на конкретную персону называются <b>квази-идентификаторами</b> (\"quasi-identifiers\"), а их комбинация - <b>супер-идентификатор</b> (\"super-identifier\"), который может указывать на уникальную персону в достаточно большом наборе данных (т.е. комбинация пола, возраста и почтового кода ведет к выделению отдельной личности). </p>\n"
   ]
  },
  {
   "cell_type": "code",
   "execution_count": 1,
   "metadata": {
    "colab": {
     "base_uri": "https://localhost:8080/",
     "height": 665
    },
    "id": "H9TFyV-_lYt1",
    "outputId": "45940549-3399-4bef-8054-4e4582b5e232"
   },
   "outputs": [
    {
     "data": {
      "text/plain": "       Микросегмент Локальное время покупок     Широта    Долгота  \\\n499990   91611244xx  2020-02-15T23:46+00:03  44.426539  55.631427   \n499991   91611504xx  2020-02-19T09:27+00:03  44.428760  55.656080   \n499992   91611336xx  2020-02-06T20:03+00:03  44.427669  55.636085   \n499993   91611919xx  2020-02-13T20:54+00:03  44.412713  55.647121   \n499994   91611566xx  2020-03-04T22:14+00:03  44.431904  55.630821   \n499995   91611578xx  2020-02-01T01:50+00:03  44.413535  55.641065   \n499996   91611363xx  2020-01-11T06:01+00:03  44.431067  55.621626   \n499997   91611613xx  2020-01-16T04:13+00:03  44.418827  55.643441   \n499998   91611223xx  2020-02-09T06:17+00:03  44.435559  55.657311   \n499999   91611505xx  2020-01-11T05:16+00:03  44.410798  55.602325   \n\n        Общая сумма покупок  Код региона Часовой пояс  Кол-во покупок  \\\n499990                 4389           38        UTC+5               1   \n499991                 5300           38        UTC+5               1   \n499992                28854           38        UTC+5               1   \n499993                27390           38        UTC+5               3   \n499994                56067           38        UTC+5               3   \n499995                38336           38        UTC+5               4   \n499996                81886           38        UTC+5               2   \n499997               330292           38        UTC+5               4   \n499998                10310           38        UTC+5               5   \n499999                34780           38        UTC+5               4   \n\n        Кол-во  товаров в покупоке    Бренды                Категория  \n499990                           1   NETGEAR   Антенны для Wi-Fi и 3G  \n499991                           1  Kingston       Оперативная память  \n499992                           1        HP                 Ноутбуки  \n499993                           3        LG                  Монитор  \n499994                           3    Lenovo                 Ноутбуки  \n499995                           4        LG                  Монитор  \n499996                           2      Acer                 Ноутбуки  \n499997                           4        HP                  Монитор  \n499998                           5    Bradex  Подставки для ноутбуков  \n499999                           4      BenQ                  Монитор  ",
      "text/html": "<div>\n<style scoped>\n    .dataframe tbody tr th:only-of-type {\n        vertical-align: middle;\n    }\n\n    .dataframe tbody tr th {\n        vertical-align: top;\n    }\n\n    .dataframe thead th {\n        text-align: right;\n    }\n</style>\n<table border=\"1\" class=\"dataframe\">\n  <thead>\n    <tr style=\"text-align: right;\">\n      <th></th>\n      <th>Микросегмент</th>\n      <th>Локальное время покупок</th>\n      <th>Широта</th>\n      <th>Долгота</th>\n      <th>Общая сумма покупок</th>\n      <th>Код региона</th>\n      <th>Часовой пояс</th>\n      <th>Кол-во покупок</th>\n      <th>Кол-во  товаров в покупоке</th>\n      <th>Бренды</th>\n      <th>Категория</th>\n    </tr>\n  </thead>\n  <tbody>\n    <tr>\n      <th>499990</th>\n      <td>91611244xx</td>\n      <td>2020-02-15T23:46+00:03</td>\n      <td>44.426539</td>\n      <td>55.631427</td>\n      <td>4389</td>\n      <td>38</td>\n      <td>UTC+5</td>\n      <td>1</td>\n      <td>1</td>\n      <td>NETGEAR</td>\n      <td>Антенны для Wi-Fi и 3G</td>\n    </tr>\n    <tr>\n      <th>499991</th>\n      <td>91611504xx</td>\n      <td>2020-02-19T09:27+00:03</td>\n      <td>44.428760</td>\n      <td>55.656080</td>\n      <td>5300</td>\n      <td>38</td>\n      <td>UTC+5</td>\n      <td>1</td>\n      <td>1</td>\n      <td>Kingston</td>\n      <td>Оперативная память</td>\n    </tr>\n    <tr>\n      <th>499992</th>\n      <td>91611336xx</td>\n      <td>2020-02-06T20:03+00:03</td>\n      <td>44.427669</td>\n      <td>55.636085</td>\n      <td>28854</td>\n      <td>38</td>\n      <td>UTC+5</td>\n      <td>1</td>\n      <td>1</td>\n      <td>HP</td>\n      <td>Ноутбуки</td>\n    </tr>\n    <tr>\n      <th>499993</th>\n      <td>91611919xx</td>\n      <td>2020-02-13T20:54+00:03</td>\n      <td>44.412713</td>\n      <td>55.647121</td>\n      <td>27390</td>\n      <td>38</td>\n      <td>UTC+5</td>\n      <td>3</td>\n      <td>3</td>\n      <td>LG</td>\n      <td>Монитор</td>\n    </tr>\n    <tr>\n      <th>499994</th>\n      <td>91611566xx</td>\n      <td>2020-03-04T22:14+00:03</td>\n      <td>44.431904</td>\n      <td>55.630821</td>\n      <td>56067</td>\n      <td>38</td>\n      <td>UTC+5</td>\n      <td>3</td>\n      <td>3</td>\n      <td>Lenovo</td>\n      <td>Ноутбуки</td>\n    </tr>\n    <tr>\n      <th>499995</th>\n      <td>91611578xx</td>\n      <td>2020-02-01T01:50+00:03</td>\n      <td>44.413535</td>\n      <td>55.641065</td>\n      <td>38336</td>\n      <td>38</td>\n      <td>UTC+5</td>\n      <td>4</td>\n      <td>4</td>\n      <td>LG</td>\n      <td>Монитор</td>\n    </tr>\n    <tr>\n      <th>499996</th>\n      <td>91611363xx</td>\n      <td>2020-01-11T06:01+00:03</td>\n      <td>44.431067</td>\n      <td>55.621626</td>\n      <td>81886</td>\n      <td>38</td>\n      <td>UTC+5</td>\n      <td>2</td>\n      <td>2</td>\n      <td>Acer</td>\n      <td>Ноутбуки</td>\n    </tr>\n    <tr>\n      <th>499997</th>\n      <td>91611613xx</td>\n      <td>2020-01-16T04:13+00:03</td>\n      <td>44.418827</td>\n      <td>55.643441</td>\n      <td>330292</td>\n      <td>38</td>\n      <td>UTC+5</td>\n      <td>4</td>\n      <td>4</td>\n      <td>HP</td>\n      <td>Монитор</td>\n    </tr>\n    <tr>\n      <th>499998</th>\n      <td>91611223xx</td>\n      <td>2020-02-09T06:17+00:03</td>\n      <td>44.435559</td>\n      <td>55.657311</td>\n      <td>10310</td>\n      <td>38</td>\n      <td>UTC+5</td>\n      <td>5</td>\n      <td>5</td>\n      <td>Bradex</td>\n      <td>Подставки для ноутбуков</td>\n    </tr>\n    <tr>\n      <th>499999</th>\n      <td>91611505xx</td>\n      <td>2020-01-11T05:16+00:03</td>\n      <td>44.410798</td>\n      <td>55.602325</td>\n      <td>34780</td>\n      <td>38</td>\n      <td>UTC+5</td>\n      <td>4</td>\n      <td>4</td>\n      <td>BenQ</td>\n      <td>Монитор</td>\n    </tr>\n  </tbody>\n</table>\n</div>"
     },
     "execution_count": 1,
     "metadata": {},
     "output_type": "execute_result"
    }
   ],
   "source": [
    "import pandas as pd\n",
    "from collections import Counter\n",
    "\n",
    "df = pd.read_excel(\"marketing_case_v.0.7.xlsx\", sheet_name=\"A2\", engine = 'openpyxl')\n",
    "df.tail(10)\n"
   ]
  },
  {
   "cell_type": "code",
   "execution_count": 2,
   "metadata": {
    "colab": {
     "base_uri": "https://localhost:8080/"
    },
    "id": "5JeErr4rtUBe",
    "outputId": "348eba04-04e5-4a05-d5e3-ad6c10408172"
   },
   "outputs": [
    {
     "name": "stdout",
     "output_type": "stream",
     "text": [
      "<class 'pandas.core.frame.DataFrame'>\n",
      "RangeIndex: 500000 entries, 0 to 499999\n",
      "Data columns (total 11 columns):\n",
      " #   Column                      Non-Null Count   Dtype  \n",
      "---  ------                      --------------   -----  \n",
      " 0   Микросегмент                500000 non-null  object \n",
      " 1   Локальное время покупок     500000 non-null  object \n",
      " 2   Широта                      500000 non-null  float64\n",
      " 3   Долгота                     500000 non-null  float64\n",
      " 4   Общая сумма покупок         500000 non-null  int64  \n",
      " 5   Код региона                 500000 non-null  int64  \n",
      " 6   Часовой пояс                500000 non-null  object \n",
      " 7   Кол-во покупок              500000 non-null  int64  \n",
      " 8   Кол-во  товаров в покупоке  500000 non-null  int64  \n",
      " 9   Бренды                      499751 non-null  object \n",
      " 10  Категория                   500000 non-null  object \n",
      "dtypes: float64(2), int64(4), object(5)\n",
      "memory usage: 42.0+ MB\n"
     ]
    }
   ],
   "source": [
    "df.info()"
   ]
  },
  {
   "cell_type": "markdown",
   "metadata": {
    "id": "xS3waMcdux44"
   },
   "source": [
    "Currently each row is unique"
   ]
  },
  {
   "cell_type": "code",
   "execution_count": 3,
   "metadata": {
    "colab": {
     "base_uri": "https://localhost:8080/",
     "height": 35
    },
    "id": "SXNFID09vbBj",
    "outputId": "dfc962af-b3ad-411e-b0df-ddf13f2dbd77"
   },
   "outputs": [
    {
     "data": {
      "text/plain": "'Duplicates == 0'"
     },
     "execution_count": 3,
     "metadata": {},
     "output_type": "execute_result"
    }
   ],
   "source": [
    "'Duplicates == ' + str(df.shape[0] - df.drop_duplicates().shape[0])"
   ]
  },
  {
   "cell_type": "markdown",
   "metadata": {
    "id": "Pcl8BQRUvlbG"
   },
   "source": [
    "#### Модель $k$-anonimity и риски повторной идентификации\n",
    "\n",
    "<p align=\"justify\">$\\qquad$ В дополнение подразумевается, что кроме квази-идентификаторов набор данных может содержать некоторые данные напрямую указывающие на личность (например, ИНН) - <b>прямые идентификаторы</b> (\"direct-identificatotrs\"), а также по крайней мере один атрибут представляющий чувствительную информацию - например, уровень дохода (\"income\") или сведения о болезни. Модель нацелена на защиту этой чувствительной информации. В рамках такой защиты записи подвергаются методам обезличивания - <b>обобщению</b> (\"generalization\") или подавлению (\"suppression\"), цель этих методов разрушить информацию таким образом, чтобы снизить количество строк с одинаковыми квази-атрибутами (так называемые классы эквивалентности). Объем минимального класса эквивалентности (количество записей с одинаковыми занчениями квази-идентификаторов) обратно пропорционален вероятности риска повторной идентификации и может служить числовой характеристикой метода.</p>\n",
    "\n",
    "\n",
    "<p align=\"justify\">$\\qquad$ Применение методов обезличивания ведет к тому, что полезная информация в обезличенных наборах данных становится менеее качественной - для измерения уровня этого качества используются специальные метрики <b>расчета полезности</b> (\"utility\"). Суть модели - нахождение баланса между риском повторной идентификации с одной стороны и полезностью набора  данных - с другой.</p>\n",
    "\n",
    "<p align=\"justify\">$\\qquad$ В первом приближении модель k-anonymity  требует выделения квази-идентификаторов (\"QID\") и вычисления для них <b>размеров классов-эквивалентности</b>  $k$ строк/физических лиц, затем итерационное применение методов обезличивания (включающих подавление строк или ячеек, обобщение значений), между которыми следует анализ получившегося набора и уточнение параметров методов обезличивания. В результате это защищает отдельных людей, сводя к минимому информацию об отдельном человеке, оставляя злоумышленнику (\"adversary\") только информацию о принадлежности данного человека к определенной группе.  Хотя получающийся набор не является точным, он все еще годится для целей анализа и построения моделей машинного обучения. В ряде случаев надо решать не только проблему обезличивания, но и иного подхода к идентификации, например, для решения задач, в которых обобщенные данные не могут использоваться напрямую.</p>\n"
   ]
  },
  {
   "cell_type": "code",
   "execution_count": 4,
   "outputs": [],
   "source": [
    "QI = ['Микросегмент',\n",
    "    'Локальное время покупок',\n",
    "    'Общая сумма покупок',\n",
    "    'Код региона',\n",
    "    'Бренды',\n",
    "    'Категория']\n",
    "SI = ['Широта',\n",
    "     'Долгота',\n",
    "     'Часовой пояс',\n",
    "     'Кол-во покупок',\n",
    "    ]"
   ],
   "metadata": {
    "collapsed": false
   }
  },
  {
   "cell_type": "code",
   "execution_count": 5,
   "metadata": {
    "colab": {
     "base_uri": "https://localhost:8080/"
    },
    "id": "CnBtwT72wqQ8",
    "outputId": "61175ab4-e4c4-4a05-923e-6c1bd4c6e39a"
   },
   "outputs": [
    {
     "name": "stdout",
     "output_type": "stream",
     "text": [
      " k-anonymity = 1\n"
     ]
    }
   ],
   "source": [
    "def k_anonymous(data, columns):\n",
    "  ## Возьмите фрейм данных, верните значение k-anonymity\n",
    "  ## Агрегируйте по именам столбцов и возьмите ненулевой минимум каждой строки\n",
    "  aggregrate = data.groupby(columns).count().apply(lambda x : set(x) - set({0}),axis = 1)\n",
    "  aggregrate = aggregrate.apply(lambda x : 0 if x == set() else min(x))\n",
    "  return min(aggregrate)\n",
    "print(' k-anonymity = ' + str(k_anonymous(df, QI)))"
   ]
  },
  {
   "cell_type": "markdown",
   "source": [
    "#### Количество повторных значений"
   ],
   "metadata": {
    "collapsed": false
   }
  },
  {
   "cell_type": "code",
   "execution_count": 6,
   "outputs": [
    {
     "name": "stderr",
     "output_type": "stream",
     "text": [
      "IOPub data rate exceeded.\n",
      "The notebook server will temporarily stop sending output\n",
      "to the client in order to avoid crashing it.\n",
      "To change this limit, set the config variable\n",
      "`--NotebookApp.iopub_data_rate_limit`.\n",
      "\n",
      "Current values:\n",
      "NotebookApp.iopub_data_rate_limit=1000000.0 (bytes/sec)\n",
      "NotebookApp.rate_limit_window=3.0 (secs)\n",
      "\n"
     ]
    },
    {
     "name": "stdout",
     "output_type": "stream",
     "text": [
      "Counter({38: 500000})\n",
      "-----------------------------Бренды----------------------------\n",
      "Counter({'HP': 45863, 'Asus': 36777, 'Acer': 30012, 'LG': 28638, 'Dell': 24735, 'Samsung': 24265, 'Philips': 23676, 'Lenovo': 20848, 'Iiyama': 18606, 'NEC': 15952, 'AOC': 15461, 'BenQ': 13423, 'MSI': 9657, 'Panasonic': 7912, 'Sharp': 7841, 'Viewsonic': 7097, 'Intel': 6876, 'Kingston': 5460, 'Corsair': 4953, 'D-Link': 3632, 'Cisco': 3439, 'Gigabyte': 3250, 'TP-LINK': 3076, 'Thermaltake': 2934, 'Eizo': 2908, 'Cooler Master': 2892, 'Apple': 2883, 'Supermicro': 2878, 'ExeGate': 2866, 'WD': 2741, 'Aerocool': 2683, 'Transcend': 2607, 'Deepcool': 2562, 'Seagate': 2559, 'Remax': 2479, 'Crucial': 2321, 'AMD': 2231, 'Patriot': 2035, 'A-Data': 1983, 'ASRock': 1945, 'Zalman': 1831, 'In Win': 1785, 'ZyXel': 1775, 'NETGEAR': 1769, 'Silicon Power': 1766, 'Ubiquiti': 1733, 'Continent': 1603, 'QNAP': 1575, 'Sumdex': 1514, 'Neovo': 1460, 'RIVACASE': 1417, 'Hikvision': 1382, 'MikroTik': 1365, '3Cott': 1344, 'IBM': 1239, 'Toshiba': 1229, 'Chieftec': 1216, 'Be quiet': 1212, 'Crown': 1210, 'Antex': 1131, 'Hiper': 1125, 'Hoco': 1110, 'TITAN': 1082, 'Yoobao': 1073, 'Fractal Design': 1072, 'Gamemax': 1039, 'NVIDIA': 1025, 'Xiaomi': 1024, 'GOODRAM': 1003, 'Hitachi': 965, 'Noctua': 952, 'Allied Telesis': 946, 'Hama': 939, 'Foxline': 935, 'Apacer': 928, 'ARCTIC': 851, 'Accord': 841, 'Rombica': 832, 'InterStep': 830, 'Newline': 815, 'SmartBuy': 806, 'Huawei': 799, 'PNY': 786, 'LaCie': 757, 'Palit': 742, 'Upvel': 737, 'Sea Sonic': 736, 'Scythe': 709, 'ASUS': 697, 'FSP': 670, 'JetA': 646, 'Fujitsu': 645, 'PC PET': 639, 'Tenda': 611, 'Targus': 609, 'STLab': 605, 'Sapphire': 582, 'Cozistyle': 579, 'Inno3D': 571, 'Romoss': 564, 'Ross&Moor': 559, 'Enermax': 548, 'Geil': 547, 'Netis': 539, 'LINKSYS': 534, 'NZXT': 509, 'Thecus': 506, 'Case Logic': 502, 'Plextor': 501, 'iconBIT': 499, 'Xilence': 495, 'Trust': 493, 'SilverStone': 483, 'Sony': 463, 'Cougar': 453, 'Synology': 444, 'HARPER': 444, 'Prestigio': 440, 'Canyon': 439, 'Awei': 417, 'Formula': 416, 'Nobby': 410, 'Qumo': 400, 'KS-is': 392, 'Thermalright': 386, 'PowerColor': 375, 'PortCase': 374, 'Lenova': 367, 'Defender': 358, 'Orient': 355, 'EDIMAX': 337, 'Micron': 336, 'Gelid Solutions': 332, 'Samsonite': 322, 'Ritmix': 320, 'Noiseblocker': 318, 'Buro': 317, 'SanDisk': 317, 'Deppa': 315, 'DigiCare': 310, 'Hynix': 307, 'Runco': 304, 'Gembird': 303, 'iStorage': 272, 'TRENDnet': 263, 'GlacialTech': 260, 'Cellularline': 258, nan: 249, 'LinkWorld': 247, 'EnGenius': 245, 'Multico': 240, 'ASUSTOR': 237, 'Packard Bell': 236, 'Codegen': 231, 'ZOTAC': 222, 'EVGA': 222, 'Thule': 220, 'IceHammer': 216, 'Creative': 214, 'Pineng': 207, 'OCZ': 201, 'Mophie': 194, 'Black Fox': 186, 'Momax': 184, 'Biostar': 176, 'TG-NET': 175, 'Golla': 174, 'ACME': 169, 'ANKER': 166, 'Monster': 165, 'APC': 164, 'Piquadro': 160, 'EVO': 159, 'CACTUS': 159, 'Hewlett Packard': 158, 'Wincor Nixdorf': 157, 'STM': 156, 'ROCK': 155, 'Aruba': 151, 'Prime Line': 151, 'LSI': 148, 'Hipro': 141, 'PLANET': 140, 'LiteOn': 136, 'Partner': 136, 'DEXP': 135, 'GMC': 134, 'RedLine': 133, 'GIGALINK': 133, '5bites': 130, 'Samurai': 128, 'Port Designs': 125, 'Aksberry': 117, 'Kingmax': 116, 'GP': 115, 'KFA2': 115, 'Team Group': 112, 'Navan': 111, 'X-Flash': 110, 'MANGO': 109, 'Varta': 108, 'DBK': 108, 'ZTE': 103, 'DrayTek': 102, 'Foxconn': 101, 'Alfa': 99, 'Powerman': 99, 'Dahua': 97, 'PowerCool': 94, 'cRadia': 89, 'AcmePower': 86, 'Lian Li': 85, 'G-case': 80, 'Orico': 80, 'Sven': 79, 'Vertex': 78, 'Texet': 78, 'Crumpler': 77, 'uBear': 77, 'TechLink': 76, 'Havit': 75, 'Urbano': 75, 'Verbatim': 75, 'Wivat': 74, 'Antec': 69, 'Adaptec': 69, 'TopON': 68, 'Calibre': 63, 'Winard': 62, 'Storm': 62, 'Fellowes': 58, 'Rubetek': 58, 'EXEQ': 57, 'Infortrend': 57, 'Dicota': 56, 'Alcom': 55, 'Speed Dragon': 54, 'MOXA': 50, 'DFunc': 49, 'Sititek': 48, 'Krusell': 47, 'BERTI': 44, 'LevelOne': 44, 'CBR': 43, 'Hoox': 42, 'Promate': 39, 'Falcon Eye': 38, 'RME': 37, 'AFOX': 37, 'Powercase': 36, 'Gainward': 35, 'Powerpod': 34, 'CRYORIG': 34, 'Powertraveller': 33, 'Hahnel': 31, 'Redmond': 31, 'Kromax': 30, 'Irbis': 30, 'KREZ': 29, 'Lexand': 28, 'Dicom': 28, 'Totolink': 28, 'AccesStyle': 28, 'UAG': 27, 'Artway': 25, 'Lepow': 25, 'Bradex': 25, 'Super Flower': 25, 'AmperIn': 23, 'Meizu': 23, 'Skylink': 23, 'Smart Bird': 23, 'WOPOW': 22, 'Ysbao': 22, 'Dream Machines': 22, 'Moshi': 21, 'Sonoff': 21, 'Forward': 21, 'Cambridge': 21, 'Miracase': 21, 'SoundTronix': 21, 'Think Tank': 21, 'Extreme Networks': 21, 'Waytronic': 21, 'XFX': 20, 'PQI': 19, 'Pantech': 19, 'C-Media': 19, 'Avantree': 19, 'AgeStar': 19, 'Merlin': 19, 'Triada': 18, 'LigoWave': 18, 'Auzer': 18, 'Doffler': 17, 'RF Elements': 17, 'Juniper': 17, 'AudioQuest': 17, 'BeeWi': 16, 'Elgato': 16, '31 Vek': 16, 'REXANT': 16, 'Ekspedicia': 16, 'Beeline': 16, 'Espada': 16, 'Korg': 15, 'Eltex': 15, 'Colorful': 15, 'Alcatel': 15, 'Powerocks': 14, 'HIS': 14, 'OLMIO': 14, 'Aeotec': 14, 'Tucano': 13, 'ARK': 13, 'Runtastic': 13, 'EMC': 12, 'Motorola': 11, 'Nanoxia': 10, 'NAD': 10, 'FIBARO': 9, 'VIA': 9, 'Native Union': 8})\n",
      "-----------------------------Категория----------------------------\n",
      "Counter({'Монитор': 226964, 'Ноутбуки': 92650, 'Powerbank аккумуляторы': 19453, 'Оперативная память': 18058, 'Корпуса': 17497, 'SSD накопители': 14222, 'Жесткие диски': 13566, 'Сумки для ноутбуков': 12449, 'Коммутаторы': 11670, 'Материнские платы': 11588, 'Системы охлаждения': 11166, 'Wi-Fi оборудование': 9989, 'Блоки питания': 9852, 'Видеокарты': 8602, 'Процессоры': 6094, 'NAS сервера': 3425, 'Антенны для Wi-Fi и 3G': 2300, 'Подставки для ноутбуков': 2013, 'Маршрутизаторы': 1745, 'Серверы': 1716, 'Оптические приводы': 1689, 'RAID и PCI контроллеры': 1380, 'Powerline адаптеры': 610, 'Звуковые карты': 533, '3G / LTE модемы': 522, 'Умные розетки': 247})\n"
     ]
    }
   ],
   "source": [
    "for arg in QI:\n",
    "    print(f\"-----------------------------{arg}----------------------------\")\n",
    "    print(Counter(df[arg]))"
   ],
   "metadata": {
    "collapsed": false
   }
  },
  {
   "cell_type": "markdown",
   "metadata": {
    "id": "2iwWHbihH6FS"
   },
   "source": [
    "#### Графики подсчета этих типов данных показаны ниже."
   ]
  },
  {
   "cell_type": "code",
   "execution_count": null,
   "metadata": {
    "colab": {
     "base_uri": "https://localhost:8080/",
     "height": 1000
    },
    "id": "yKDPK5BRH542",
    "outputId": "4fd71850-1e07-4d03-805d-a5cf6837af03",
    "pycharm": {
     "is_executing": true
    }
   },
   "outputs": [],
   "source": [
    "import seaborn as sns\n",
    "import matplotlib.pyplot as plt\n",
    "\n",
    "columns = QI\n",
    "\n",
    "fig, ax = plt.subplots(len(columns), figsize = (20,80))\n",
    "for i in range(len(columns)):\n",
    "  ax[i].set_title('Column : ' + str(columns[i]))\n",
    "  sns.countplot(y = columns[i], data = df, ax = ax[i])"
   ]
  }
 ],
 "metadata": {
  "colab": {
   "authorship_tag": "ABX9TyM0gUeRhrHztDmd1gtEUV5x",
   "include_colab_link": true,
   "name": "K-Anonymity",
   "provenance": []
  },
  "kernelspec": {
   "display_name": "Python 3 (ipykernel)",
   "language": "python",
   "name": "python3"
  },
  "language_info": {
   "codemirror_mode": {
    "name": "ipython",
    "version": 3
   },
   "file_extension": ".py",
   "mimetype": "text/x-python",
   "name": "python",
   "nbconvert_exporter": "python",
   "pygments_lexer": "ipython3",
   "version": "3.8.10"
  }
 },
 "nbformat": 4,
 "nbformat_minor": 4
}
