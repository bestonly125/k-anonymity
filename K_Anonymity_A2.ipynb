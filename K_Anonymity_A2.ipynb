{
 "cells": [
  {
   "cell_type": "markdown",
   "metadata": {
    "id": "ZhhexJtrtVBD"
   },
   "source": [
    "# K-Anonymity \n",
    "<p align=\"justify\">$\\qquad$ <b>k-anonymity</b> -модель, которая позволяет снижать риски повторной идентификации путем объединения атрибутов в группы, описывающие не менее $k$ людей. Предположим, что имеется набор из  $N$ строк/записей. Каждая запись состоит из  $D$ полей/атрибутов, из которых $X_i$ ($i \\in [0,D]$) не содержат конфиденциальной информации (non-sensitive) о физическом лице, примером таких атрибутов является возраст, пол, почтовый код и т.п. Однако,  это подмножество атрибутов может в совокупности указывать на конкретное лицо в данной группе.Такие атрибуты, в совокупности указывающие на конкретную персону называются <b>квази-идентификаторами</b> (\"quasi-identifiers\"), а их комбинация - <b>супер-идентификатор</b> (\"super-identifier\"), который может указывать на уникальную персону в достаточно большом наборе данных (т.е. комбинация пола, возраста и почтового кода ведет к выделению отдельной личности). </p>\n"
   ]
  },
  {
   "cell_type": "code",
   "execution_count": 1,
   "metadata": {
    "colab": {
     "base_uri": "https://localhost:8080/",
     "height": 665
    },
    "id": "H9TFyV-_lYt1",
    "outputId": "45940549-3399-4bef-8054-4e4582b5e232"
   },
   "outputs": [
    {
     "data": {
      "text/html": [
       "<div>\n",
       "<style scoped>\n",
       "    .dataframe tbody tr th:only-of-type {\n",
       "        vertical-align: middle;\n",
       "    }\n",
       "\n",
       "    .dataframe tbody tr th {\n",
       "        vertical-align: top;\n",
       "    }\n",
       "\n",
       "    .dataframe thead th {\n",
       "        text-align: right;\n",
       "    }\n",
       "</style>\n",
       "<table border=\"1\" class=\"dataframe\">\n",
       "  <thead>\n",
       "    <tr style=\"text-align: right;\">\n",
       "      <th></th>\n",
       "      <th>Микросегмент</th>\n",
       "      <th>Локальное время покупок</th>\n",
       "      <th>Широта</th>\n",
       "      <th>Долгота</th>\n",
       "      <th>Общая сумма покупок</th>\n",
       "      <th>Код региона</th>\n",
       "      <th>Часовой пояс</th>\n",
       "      <th>Кол-во покупок</th>\n",
       "      <th>Кол-во  товаров в покупоке</th>\n",
       "      <th>Бренды</th>\n",
       "      <th>Категория</th>\n",
       "    </tr>\n",
       "  </thead>\n",
       "  <tbody>\n",
       "    <tr>\n",
       "      <th>499990</th>\n",
       "      <td>91611940xx</td>\n",
       "      <td>2022-01-09</td>\n",
       "      <td>29.421</td>\n",
       "      <td>59.623</td>\n",
       "      <td>6556</td>\n",
       "      <td>38</td>\n",
       "      <td>UTC+5</td>\n",
       "      <td>4</td>\n",
       "      <td>4</td>\n",
       "      <td>Gamemax</td>\n",
       "      <td>Блоки питания</td>\n",
       "    </tr>\n",
       "    <tr>\n",
       "      <th>499991</th>\n",
       "      <td>91611379xx</td>\n",
       "      <td>2022-01-18</td>\n",
       "      <td>29.421</td>\n",
       "      <td>59.620</td>\n",
       "      <td>182058</td>\n",
       "      <td>38</td>\n",
       "      <td>UTC+5</td>\n",
       "      <td>6</td>\n",
       "      <td>6</td>\n",
       "      <td>RME</td>\n",
       "      <td>Звуковые карты</td>\n",
       "    </tr>\n",
       "    <tr>\n",
       "      <th>499992</th>\n",
       "      <td>91611232xx</td>\n",
       "      <td>2022-01-11</td>\n",
       "      <td>29.420</td>\n",
       "      <td>59.621</td>\n",
       "      <td>36741</td>\n",
       "      <td>38</td>\n",
       "      <td>UTC+5</td>\n",
       "      <td>3</td>\n",
       "      <td>3</td>\n",
       "      <td>Dell</td>\n",
       "      <td>Жесткие диски</td>\n",
       "    </tr>\n",
       "    <tr>\n",
       "      <th>499993</th>\n",
       "      <td>91611583xx</td>\n",
       "      <td>2022-01-30</td>\n",
       "      <td>29.426</td>\n",
       "      <td>59.639</td>\n",
       "      <td>606771</td>\n",
       "      <td>38</td>\n",
       "      <td>UTC+5</td>\n",
       "      <td>9</td>\n",
       "      <td>9</td>\n",
       "      <td>NEC</td>\n",
       "      <td>Монитор</td>\n",
       "    </tr>\n",
       "    <tr>\n",
       "      <th>499994</th>\n",
       "      <td>91611451xx</td>\n",
       "      <td>2022-01-28</td>\n",
       "      <td>29.421</td>\n",
       "      <td>59.615</td>\n",
       "      <td>145200</td>\n",
       "      <td>38</td>\n",
       "      <td>UTC+5</td>\n",
       "      <td>6</td>\n",
       "      <td>6</td>\n",
       "      <td>Iiyama</td>\n",
       "      <td>Монитор</td>\n",
       "    </tr>\n",
       "    <tr>\n",
       "      <th>499995</th>\n",
       "      <td>91611335xx</td>\n",
       "      <td>2022-01-07</td>\n",
       "      <td>29.421</td>\n",
       "      <td>59.620</td>\n",
       "      <td>14608440</td>\n",
       "      <td>38</td>\n",
       "      <td>UTC+5</td>\n",
       "      <td>7</td>\n",
       "      <td>7</td>\n",
       "      <td>Lenovo</td>\n",
       "      <td>Ноутбуки</td>\n",
       "    </tr>\n",
       "    <tr>\n",
       "      <th>499996</th>\n",
       "      <td>91611360xx</td>\n",
       "      <td>2022-01-11</td>\n",
       "      <td>29.426</td>\n",
       "      <td>59.607</td>\n",
       "      <td>36154</td>\n",
       "      <td>38</td>\n",
       "      <td>UTC+5</td>\n",
       "      <td>2</td>\n",
       "      <td>2</td>\n",
       "      <td>Iiyama</td>\n",
       "      <td>Монитор</td>\n",
       "    </tr>\n",
       "    <tr>\n",
       "      <th>499997</th>\n",
       "      <td>91611966xx</td>\n",
       "      <td>2022-01-27</td>\n",
       "      <td>29.424</td>\n",
       "      <td>59.624</td>\n",
       "      <td>21768</td>\n",
       "      <td>38</td>\n",
       "      <td>UTC+5</td>\n",
       "      <td>8</td>\n",
       "      <td>8</td>\n",
       "      <td>In Win</td>\n",
       "      <td>Корпуса</td>\n",
       "    </tr>\n",
       "    <tr>\n",
       "      <th>499998</th>\n",
       "      <td>91611148xx</td>\n",
       "      <td>2022-01-05</td>\n",
       "      <td>29.428</td>\n",
       "      <td>59.630</td>\n",
       "      <td>250716</td>\n",
       "      <td>38</td>\n",
       "      <td>UTC+5</td>\n",
       "      <td>3</td>\n",
       "      <td>3</td>\n",
       "      <td>BenQ</td>\n",
       "      <td>Монитор</td>\n",
       "    </tr>\n",
       "    <tr>\n",
       "      <th>499999</th>\n",
       "      <td>91611694xx</td>\n",
       "      <td>2022-01-02</td>\n",
       "      <td>29.421</td>\n",
       "      <td>59.616</td>\n",
       "      <td>30698</td>\n",
       "      <td>38</td>\n",
       "      <td>UTC+5</td>\n",
       "      <td>2</td>\n",
       "      <td>2</td>\n",
       "      <td>AOC</td>\n",
       "      <td>Монитор</td>\n",
       "    </tr>\n",
       "  </tbody>\n",
       "</table>\n",
       "</div>"
      ],
      "text/plain": [
       "       Микросегмент Локальное время покупок  Широта  Долгота  \\\n",
       "499990   91611940xx              2022-01-09  29.421   59.623   \n",
       "499991   91611379xx              2022-01-18  29.421   59.620   \n",
       "499992   91611232xx              2022-01-11  29.420   59.621   \n",
       "499993   91611583xx              2022-01-30  29.426   59.639   \n",
       "499994   91611451xx              2022-01-28  29.421   59.615   \n",
       "499995   91611335xx              2022-01-07  29.421   59.620   \n",
       "499996   91611360xx              2022-01-11  29.426   59.607   \n",
       "499997   91611966xx              2022-01-27  29.424   59.624   \n",
       "499998   91611148xx              2022-01-05  29.428   59.630   \n",
       "499999   91611694xx              2022-01-02  29.421   59.616   \n",
       "\n",
       "        Общая сумма покупок  Код региона Часовой пояс  Кол-во покупок  \\\n",
       "499990                 6556           38        UTC+5               4   \n",
       "499991               182058           38        UTC+5               6   \n",
       "499992                36741           38        UTC+5               3   \n",
       "499993               606771           38        UTC+5               9   \n",
       "499994               145200           38        UTC+5               6   \n",
       "499995             14608440           38        UTC+5               7   \n",
       "499996                36154           38        UTC+5               2   \n",
       "499997                21768           38        UTC+5               8   \n",
       "499998               250716           38        UTC+5               3   \n",
       "499999                30698           38        UTC+5               2   \n",
       "\n",
       "        Кол-во  товаров в покупоке   Бренды       Категория  \n",
       "499990                           4  Gamemax   Блоки питания  \n",
       "499991                           6      RME  Звуковые карты  \n",
       "499992                           3     Dell   Жесткие диски  \n",
       "499993                           9      NEC         Монитор  \n",
       "499994                           6   Iiyama         Монитор  \n",
       "499995                           7   Lenovo        Ноутбуки  \n",
       "499996                           2   Iiyama         Монитор  \n",
       "499997                           8   In Win         Корпуса  \n",
       "499998                           3     BenQ         Монитор  \n",
       "499999                           2      AOC         Монитор  "
      ]
     },
     "execution_count": 1,
     "metadata": {},
     "output_type": "execute_result"
    }
   ],
   "source": [
    "import pandas as pd\n",
    "from collections import Counter\n",
    "from openpyxl import Workbook\n",
    "table_name = \"marketing_case_v.0.5.3.xlsx\"\n",
    "df = pd.read_excel(table_name, sheet_name=\"A2\", engine = 'openpyxl')\n",
    "df.tail(10)\n"
   ]
  },
  {
   "cell_type": "code",
   "execution_count": 2,
   "metadata": {
    "colab": {
     "base_uri": "https://localhost:8080/"
    },
    "id": "5JeErr4rtUBe",
    "outputId": "348eba04-04e5-4a05-d5e3-ad6c10408172"
   },
   "outputs": [
    {
     "name": "stdout",
     "output_type": "stream",
     "text": [
      "<class 'pandas.core.frame.DataFrame'>\n",
      "RangeIndex: 500000 entries, 0 to 499999\n",
      "Data columns (total 11 columns):\n",
      " #   Column                      Non-Null Count   Dtype  \n",
      "---  ------                      --------------   -----  \n",
      " 0   Микросегмент                500000 non-null  object \n",
      " 1   Локальное время покупок     500000 non-null  object \n",
      " 2   Широта                      500000 non-null  float64\n",
      " 3   Долгота                     500000 non-null  float64\n",
      " 4   Общая сумма покупок         500000 non-null  int64  \n",
      " 5   Код региона                 500000 non-null  int64  \n",
      " 6   Часовой пояс                500000 non-null  object \n",
      " 7   Кол-во покупок              500000 non-null  int64  \n",
      " 8   Кол-во  товаров в покупоке  500000 non-null  int64  \n",
      " 9   Бренды                      499766 non-null  object \n",
      " 10  Категория                   500000 non-null  object \n",
      "dtypes: float64(2), int64(4), object(5)\n",
      "memory usage: 42.0+ MB\n"
     ]
    }
   ],
   "source": [
    "df.info()"
   ]
  },
  {
   "cell_type": "markdown",
   "metadata": {
    "id": "xS3waMcdux44"
   },
   "source": [
    "Currently each row is unique"
   ]
  },
  {
   "cell_type": "code",
   "execution_count": 3,
   "metadata": {
    "colab": {
     "base_uri": "https://localhost:8080/",
     "height": 35
    },
    "id": "SXNFID09vbBj",
    "outputId": "dfc962af-b3ad-411e-b0df-ddf13f2dbd77"
   },
   "outputs": [
    {
     "data": {
      "text/plain": [
       "'Duplicates == 0'"
      ]
     },
     "execution_count": 3,
     "metadata": {},
     "output_type": "execute_result"
    }
   ],
   "source": [
    "'Duplicates == ' + str(df.shape[0] - df.drop_duplicates().shape[0])"
   ]
  },
  {
   "cell_type": "markdown",
   "metadata": {
    "id": "Pcl8BQRUvlbG"
   },
   "source": [
    "#### Модель $k$-anonimity и риски повторной идентификации\n",
    "\n",
    "<p align=\"justify\">$\\qquad$ В дополнение подразумевается, что кроме квази-идентификаторов набор данных может содержать некоторые данные напрямую указывающие на личность (например, ИНН) - <b>прямые идентификаторы</b> (\"direct-identificatotrs\"), а также по крайней мере один атрибут представляющий чувствительную информацию - например, уровень дохода (\"income\") или сведения о болезни. Модель нацелена на защиту этой чувствительной информации. В рамках такой защиты записи подвергаются методам обезличивания - <b>обобщению</b> (\"generalization\") или подавлению (\"suppression\"), цель этих методов разрушить информацию таким образом, чтобы снизить количество строк с одинаковыми квази-атрибутами (так называемые классы эквивалентности). Объем минимального класса эквивалентности (количество записей с одинаковыми занчениями квази-идентификаторов) обратно пропорционален вероятности риска повторной идентификации и может служить числовой характеристикой метода.</p>\n",
    "\n",
    "\n",
    "<p align=\"justify\">$\\qquad$ Применение методов обезличивания ведет к тому, что полезная информация в обезличенных наборах данных становится менеее качественной - для измерения уровня этого качества используются специальные метрики <b>расчета полезности</b> (\"utility\"). Суть модели - нахождение баланса между риском повторной идентификации с одной стороны и полезностью набора  данных - с другой.</p>\n",
    "\n",
    "<p align=\"justify\">$\\qquad$ В первом приближении модель k-anonymity  требует выделения квази-идентификаторов (\"QID\") и вычисления для них <b>размеров классов-эквивалентности</b>  $k$ строк/физических лиц, затем итерационное применение методов обезличивания (включающих подавление строк или ячеек, обобщение значений), между которыми следует анализ получившегося набора и уточнение параметров методов обезличивания. В результате это защищает отдельных людей, сводя к минимому информацию об отдельном человеке, оставляя злоумышленнику (\"adversary\") только информацию о принадлежности данного человека к определенной группе.  Хотя получающийся набор не является точным, он все еще годится для целей анализа и построения моделей машинного обучения. В ряде случаев надо решать не только проблему обезличивания, но и иного подхода к идентификации, например, для решения задач, в которых обобщенные данные не могут использоваться напрямую.</p>\n"
   ]
  },
  {
   "cell_type": "code",
   "execution_count": 4,
   "metadata": {
    "collapsed": false,
    "jupyter": {
     "outputs_hidden": false
    }
   },
   "outputs": [],
   "source": [
    "QI = ['Микросегмент',\n",
    "    'Локальное время покупок',\n",
    "    'Общая сумма покупок',\n",
    "    'Код региона',\n",
    "    'Бренды',\n",
    "    'Категория']\n"
   ]
  },
  {
   "cell_type": "code",
   "execution_count": 5,
   "metadata": {
    "colab": {
     "base_uri": "https://localhost:8080/"
    },
    "id": "CnBtwT72wqQ8",
    "outputId": "61175ab4-e4c4-4a05-923e-6c1bd4c6e39a"
   },
   "outputs": [
    {
     "name": "stdout",
     "output_type": "stream",
     "text": [
      " k-anonymity = [1, 2, 3]\n"
     ]
    }
   ],
   "source": [
    "def k_anonymous(data, columns):\n",
    "  ## Возьмите фрейм данных, верните значение k-anonymity\n",
    "  ## Агрегируйте по именам столбцов и возьмите ненулевой минимум каждой строки\n",
    "  aggregrate = data.groupby(columns).count().apply(lambda x : set(x) - set({0}),axis = 1)\n",
    "  aggregrate = aggregrate.apply(lambda x : 0 if x == set() else min(x))\n",
    "  return sorted(set(aggregrate))[:5]\n",
    "k_anonymous = k_anonymous(df, QI)\n",
    "print(' k-anonymity = ' + str(k_anonymous))"
   ]
  },
  {
   "cell_type": "code",
   "execution_count": 6,
   "metadata": {
    "collapsed": false,
    "jupyter": {
     "outputs_hidden": false
    }
   },
   "outputs": [
    {
     "name": "stdout",
     "output_type": "stream",
     "text": [
      "k-anonymity(coefficient) = [2, 4, 6]\n"
     ]
    }
   ],
   "source": [
    "from decimal import localcontext, Decimal, ROUND_UP\n",
    "def coefficient_nyu():\n",
    "    df = pd.read_excel(table_name, sheet_name=\"B2\", engine = 'openpyxl')\n",
    "    df = df[\"Кол-во пользователей, просмотревших рекламу\"].to_numpy()\n",
    "    nyu = 0\n",
    "    for arg in df:\n",
    "        nyu+=arg\n",
    "    with localcontext() as ctx:\n",
    "        ctx.rounding = ROUND_UP\n",
    "        nyu = Decimal(nyu/len(df))\n",
    "        return int(nyu.to_integral_value())\n",
    "k_anonymous_coefficient = [arg * coefficient_nyu() for arg in k_anonymous]\n",
    "print(f'k-anonymity(coefficient) = {k_anonymous_coefficient}')"
   ]
  },
  {
   "cell_type": "markdown",
   "metadata": {},
   "source": [
    "#### Количество уникальных строк"
   ]
  },
  {
   "cell_type": "code",
   "execution_count": 7,
   "metadata": {
    "collapsed": false,
    "jupyter": {
     "outputs_hidden": false
    }
   },
   "outputs": [
    {
     "name": "stdout",
     "output_type": "stream",
     "text": [
      "Количество уникальных строк = 499828\n"
     ]
    }
   ],
   "source": [
    "unique_rows = df[QI].drop_duplicates()\n",
    "unique_rows.to_excel(\"uniques_row.xlsx\")\n",
    "print(f\"Количество уникальных строк = {len(unique_rows)}\")"
   ]
  },
  {
   "cell_type": "code",
   "execution_count": 8,
   "metadata": {
    "collapsed": false,
    "jupyter": {
     "outputs_hidden": false
    }
   },
   "outputs": [
    {
     "name": "stdout",
     "output_type": "stream",
     "text": [
      "       Микросегмент Локальное время покупок  Общая сумма покупок  Код региона  \\\n",
      "0        91611574xx              2022-01-23               406134           38   \n",
      "1        91611870xx              2022-01-28                73869           38   \n",
      "2        91611395xx              2022-01-14                32032           38   \n",
      "3        91611534xx              2022-01-06               312840           38   \n",
      "4        91611261xx              2022-01-06                22072           38   \n",
      "...             ...                     ...                  ...          ...   \n",
      "499995   91611335xx              2022-01-07             14608440           38   \n",
      "499996   91611360xx              2022-01-11                36154           38   \n",
      "499997   91611966xx              2022-01-27                21768           38   \n",
      "499998   91611148xx              2022-01-05               250716           38   \n",
      "499999   91611694xx              2022-01-02                30698           38   \n",
      "\n",
      "        Бренды Категория  \n",
      "0           LG   Монитор  \n",
      "1         Asus   Монитор  \n",
      "2         Acer   Монитор  \n",
      "3          MSI  Ноутбуки  \n",
      "4          AOC   Монитор  \n",
      "...        ...       ...  \n",
      "499995  Lenovo  Ноутбуки  \n",
      "499996  Iiyama   Монитор  \n",
      "499997  In Win   Корпуса  \n",
      "499998    BenQ   Монитор  \n",
      "499999     AOC   Монитор  \n",
      "\n",
      "[499828 rows x 6 columns]\n"
     ]
    }
   ],
   "source": [
    "print(unique_rows)"
   ]
  },
  {
   "cell_type": "markdown",
   "metadata": {
    "id": "2iwWHbihH6FS"
   },
   "source": [
    "#### Графики подсчета этих типов данных показаны ниже."
   ]
  },
  {
   "cell_type": "code",
   "execution_count": null,
   "metadata": {
    "colab": {
     "base_uri": "https://localhost:8080/",
     "height": 1000
    },
    "id": "yKDPK5BRH542",
    "outputId": "4fd71850-1e07-4d03-805d-a5cf6837af03"
   },
   "outputs": [],
   "source": [
    "import seaborn as sns\n",
    "import matplotlib.pyplot as plt\n",
    "\n",
    "columns = QI\n",
    "\n",
    "fig, ax = plt.subplots(len(columns), figsize = (20,80))\n",
    "for i in range(len(columns)):\n",
    "  ax[i].set_title('Column : ' + str(columns[i]))\n",
    "  sns.countplot(y = columns[i], data = df, ax = ax[i])"
   ]
  },
  {
   "cell_type": "markdown",
   "metadata": {},
   "source": [
    "#### Количество повторных значений"
   ]
  },
  {
   "cell_type": "code",
   "execution_count": null,
   "metadata": {
    "collapsed": false,
    "jupyter": {
     "outputs_hidden": false
    }
   },
   "outputs": [],
   "source": [
    "def quantity_qi(arg):\n",
    "    quantity = Counter(df[arg])\n",
    "    dic_quan = dict(quantity)\n",
    "    for idx, item in enumerate(dic_quan.items(),1):\n",
    "        if(arg == 'Микросегмент'):\n",
    "            ws['A' + str(idx + 1)] = f\"{item[0]}=>{item[1]}шт\"\n",
    "            ws['A1'] = f\"{arg}\"\n",
    "        elif(arg == 'Локальное время покупок'):\n",
    "            ws['B' + str(idx + 1)] = f\"{item[0]}=>{item[1]}шт\"\n",
    "            ws['B1'] = f\"{arg}\"\n",
    "        elif(arg == 'Общая сумма покупок'):\n",
    "            ws['C' + str(idx + 1)] = f\"{item[0]}=>{item[1]}шт\"\n",
    "            ws['C1'] = f\"{arg}\"\n",
    "        elif(arg == 'Код региона'):\n",
    "            ws['D' + str(idx +1)] = f\"{item[0]}=>{item[1]}шт\"\n",
    "            ws['D1'] = f\"{arg}\"\n",
    "        elif(arg == 'Бренды'):\n",
    "            ws['E' + str(idx + 1)] = f\"{item[0]}=>{item[1]}шт\"\n",
    "            ws['E1'] = f\"{arg}\"\n",
    "        elif(arg == 'Категория'):\n",
    "            ws['F' + str(idx + 1)] = f\"{item[0]}=>{item[1]}шт\"\n",
    "            ws['F1'] = f\"{arg}\""
   ]
  },
  {
   "cell_type": "markdown",
   "metadata": {},
   "source": [
    " #### Создается Excel файл, где в каждой ячейке после стрелочки выводиться количество повторов “имени” ячейки в исходном датасете."
   ]
  },
  {
   "cell_type": "code",
   "execution_count": null,
   "metadata": {
    "collapsed": false,
    "jupyter": {
     "outputs_hidden": false
    }
   },
   "outputs": [],
   "source": [
    "wb = Workbook()\n",
    "ws = wb.create_sheet(\"A2\")\n",
    "del wb['Sheet']\n",
    "for arg in QI:\n",
    "    quantity_qi(arg)\n",
    "wb.save('quantity.xlsx')\n",
    "df2 = pd.read_excel('quantity.xlsx', sheet_name=\"A2\", engine = 'openpyxl')\n",
    "df2.head(10)"
   ]
  }
 ],
 "metadata": {
  "colab": {
   "authorship_tag": "ABX9TyM0gUeRhrHztDmd1gtEUV5x",
   "include_colab_link": true,
   "name": "K-Anonymity",
   "provenance": []
  },
  "kernelspec": {
   "display_name": "Python 3 (ipykernel)",
   "language": "python",
   "name": "python3"
  },
  "language_info": {
   "codemirror_mode": {
    "name": "ipython",
    "version": 3
   },
   "file_extension": ".py",
   "mimetype": "text/x-python",
   "name": "python",
   "nbconvert_exporter": "python",
   "pygments_lexer": "ipython3",
   "version": "3.8.10"
  }
 },
 "nbformat": 4,
 "nbformat_minor": 4
}
